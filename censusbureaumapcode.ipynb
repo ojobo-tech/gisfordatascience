{
  "nbformat": 4,
  "nbformat_minor": 0,
  "metadata": {
    "colab": {
      "provenance": [],
      "authorship_tag": "ABX9TyPbmLRrdnoOsugghmiargZN",
      "include_colab_link": true
    },
    "kernelspec": {
      "name": "python3",
      "display_name": "Python 3"
    },
    "language_info": {
      "name": "python"
    }
  },
  "cells": [
    {
      "cell_type": "markdown",
      "metadata": {
        "id": "view-in-github",
        "colab_type": "text"
      },
      "source": [
        "<a href=\"https://colab.research.google.com/github/ojobo-tech/gisfordatascience/blob/main/censusbureaumapcode.ipynb\" target=\"_parent\"><img src=\"https://colab.research.google.com/assets/colab-badge.svg\" alt=\"Open In Colab\"/></a>"
      ]
    },
    {
      "cell_type": "code",
      "execution_count": 1,
      "metadata": {
        "id": "fETAQo6WFEGl"
      },
      "outputs": [],
      "source": [
        "#Code from Dr. Adam's map.ipynb\n",
        "import os, zipfile #basics\n",
        "import pandas as pd #data management\n",
        "import matplotlib.pyplot as plt #vis\n",
        "\n",
        "import geopandas as gpd #gis/maps\n",
        "\n",
        "#will display all output not just last command\n",
        "from IPython.core.interactiveshell import InteractiveShell\n",
        "InteractiveShell.ast_node_interactivity = \"all\"\n",
        "\n",
        "from google.colab import files #to download from colab onto hd\n",
        "\n",
        "from google.colab import data_table\n",
        "data_table.enable_dataframe_formatter() #this enables spreadsheet view upon calling dataframe (without() )"
      ]
    },
    {
      "cell_type": "code",
      "source": [
        "!pip install mapclassify\n",
        "import mapclassify #need for thematic map classification"
      ],
      "metadata": {
        "colab": {
          "base_uri": "https://localhost:8080/"
        },
        "id": "DboXmH_tFG9K",
        "outputId": "82cec4f4-4461-4de0-bfe2-96cf780d179a"
      },
      "execution_count": 2,
      "outputs": [
        {
          "output_type": "stream",
          "name": "stdout",
          "text": [
            "Collecting mapclassify\n",
            "  Downloading mapclassify-2.6.0-py3-none-any.whl (40 kB)\n",
            "\u001b[2K     \u001b[90m━━━━━━━━━━━━━━━━━━━━━━━━━━━━━━━━━━━━━━━\u001b[0m \u001b[32m40.8/40.8 kB\u001b[0m \u001b[31m807.6 kB/s\u001b[0m eta \u001b[36m0:00:00\u001b[0m\n",
            "\u001b[?25hRequirement already satisfied: scipy>=1.0 in /usr/local/lib/python3.10/dist-packages (from mapclassify) (1.11.2)\n",
            "Requirement already satisfied: numpy>=1.3 in /usr/local/lib/python3.10/dist-packages (from mapclassify) (1.23.5)\n",
            "Requirement already satisfied: scikit-learn in /usr/local/lib/python3.10/dist-packages (from mapclassify) (1.2.2)\n",
            "Requirement already satisfied: pandas>=1.0 in /usr/local/lib/python3.10/dist-packages (from mapclassify) (1.5.3)\n",
            "Requirement already satisfied: networkx in /usr/local/lib/python3.10/dist-packages (from mapclassify) (3.1)\n",
            "Requirement already satisfied: python-dateutil>=2.8.1 in /usr/local/lib/python3.10/dist-packages (from pandas>=1.0->mapclassify) (2.8.2)\n",
            "Requirement already satisfied: pytz>=2020.1 in /usr/local/lib/python3.10/dist-packages (from pandas>=1.0->mapclassify) (2023.3.post1)\n",
            "Requirement already satisfied: joblib>=1.1.1 in /usr/local/lib/python3.10/dist-packages (from scikit-learn->mapclassify) (1.3.2)\n",
            "Requirement already satisfied: threadpoolctl>=2.0.0 in /usr/local/lib/python3.10/dist-packages (from scikit-learn->mapclassify) (3.2.0)\n",
            "Requirement already satisfied: six>=1.5 in /usr/local/lib/python3.10/dist-packages (from python-dateutil>=2.8.1->pandas>=1.0->mapclassify) (1.16.0)\n",
            "Installing collected packages: mapclassify\n",
            "Successfully installed mapclassify-2.6.0\n"
          ]
        }
      ]
    },
    {
      "cell_type": "code",
      "source": [
        "#i found one on the census website, and copied the link onto colab:\n",
        "! wget -q -O cb_2018_us_county_500k.zip https://www2.census.gov/geo/tiger/GENZ2018/shp/cb_2018_us_county_500k.zip\n",
        "zip_ref = zipfile.ZipFile('cb_2018_us_county_500k.zip', 'r'); zip_ref.extractall(); zip_ref.close() #just unzipping\n",
        "usC=gpd.read_file('cb_2018_us_county_500k.shp') #load the shapefile with gpd as usC"
      ],
      "metadata": {
        "id": "uLLZc4kFFJUx"
      },
      "execution_count": 3,
      "outputs": []
    },
    {
      "cell_type": "code",
      "source": [
        "#make the map\n",
        "usC.plot()"
      ],
      "metadata": {
        "colab": {
          "base_uri": "https://localhost:8080/",
          "height": 217
        },
        "id": "XagvaVLdFL44",
        "outputId": "16be11e3-7fde-4780-be1c-91393fba0fac"
      },
      "execution_count": 4,
      "outputs": [
        {
          "output_type": "execute_result",
          "data": {
            "text/plain": [
              "<Axes: >"
            ]
          },
          "metadata": {},
          "execution_count": 4
        },
        {
          "output_type": "display_data",
          "data": {
            "text/plain": [
              "<Figure size 640x480 with 1 Axes>"
            ],
            "image/png": "[encoded data removed]"
          },
          "metadata": {}
        }
      ]
    },
    {
      "cell_type": "code",
      "source": [
        "! wget -q -O nj-counties.zip https://www2.census.gov/geo/tiger/GENZ2018/shp/cb_2018_us_county_500k.zip\n",
        "zip_ref = zipfile.ZipFile('cb_2018_us_county_500k.zip', 'r'); zip_ref.extractall(); zip_ref.close() #just unzipping\n",
        "usC=gpd.read_file('cb_2018_us_county_500k.shp') #load the shapefile with gpd as usC"
      ],
      "metadata": {
        "id": "zMh46rEWFQH8"
      },
      "execution_count": 5,
      "outputs": []
    },
    {
      "cell_type": "code",
      "source": [
        "usC.dtypes #with geopandas can do stuff like with pandas :)"
      ],
      "metadata": {
        "colab": {
          "base_uri": "https://localhost:8080/"
        },
        "id": "Wuy_mQKGFSrD",
        "outputId": "25aba1f6-f541-4e5c-85a5-cfa3026466f0"
      },
      "execution_count": 6,
      "outputs": [
        {
          "output_type": "execute_result",
          "data": {
            "text/plain": [
              "STATEFP       object\n",
              "COUNTYFP      object\n",
              "COUNTYNS      object\n",
              "AFFGEOID      object\n",
              "GEOID         object\n",
              "NAME          object\n",
              "LSAD          object\n",
              "ALAND          int64\n",
              "AWATER         int64\n",
              "geometry    geometry\n",
              "dtype: object"
            ]
          },
          "metadata": {},
          "execution_count": 6
        }
      ]
    },
    {
      "cell_type": "code",
      "source": [
        "usC.head(2)"
      ],
      "metadata": {
        "colab": {
          "base_uri": "https://localhost:8080/",
          "height": 5749
        },
        "id": "1B-q4TTwFUuS",
        "outputId": "64c8b91d-3d83-4adf-b106-3163a02a3558"
      },
      "execution_count": 7,
      "outputs": [
        {
          "output_type": "execute_result",
          "data": {
            "text/plain": [
              "  STATEFP COUNTYFP  COUNTYNS        AFFGEOID  GEOID     NAME LSAD      ALAND  \\\n",
              "0      21      007  00516850  0500000US21007  21007  Ballard   06  639387454   \n",
              "1      21      017  00516855  0500000US21017  21017  Bourbon   06  750439351   \n",
              "\n",
              "     AWATER                                           geometry  \n",
              "0  69473325  POLYGON ((-89.18137 37.04630, -89.17938 37.053...  \n",
              "1   4829777  POLYGON ((-84.44266 38.28324, -84.44114 38.283...  "
            ],
            "text/html": [
              "\n",
              "  <div id=\"df-ca2a6692-e980-408c-95b8-6d03420adff7\" class=\"colab-df-container\">\n",
              "    <div>\n",
              "<style scoped>\n",
              "    .dataframe tbody tr th:only-of-type {\n",
              "        vertical-align: middle;\n",
              "    }\n",
              "\n",
              "    .dataframe tbody tr th {\n",
              "        vertical-align: top;\n",
              "    }\n",
              "\n",
              "    .dataframe thead th {\n",
              "        text-align: right;\n",
              "    }\n",
              "</style>\n",
              "<table border=\"1\" class=\"dataframe\">\n",
              "  <thead>\n",
              "    <tr style=\"text-align: right;\">\n",
              "      <th></th>\n",
              "      <th>STATEFP</th>\n",
              "      <th>COUNTYFP</th>\n",
              "      <th>COUNTYNS</th>\n",
              "      <th>AFFGEOID</th>\n",
              "      <th>GEOID</th>\n",
              "      <th>NAME</th>\n",
              "      <th>LSAD</th>\n",
              "      <th>ALAND</th>\n",
              "      <th>AWATER</th>\n",
              "      <th>geometry</th>\n",
              "    </tr>\n",
              "  </thead>\n",
              "  <tbody>\n",
              "    <tr>\n",
              "      <th>0</th>\n",
              "      <td>21</td>\n",
              "      <td>007</td>\n",
              "      <td>00516850</td>\n",
              "      <td>0500000US21007</td>\n",
              "      <td>21007</td>\n",
              "      <td>Ballard</td>\n",
              "      <td>06</td>\n",
              "      <td>639387454</td>\n",
              "      <td>69473325</td>\n",
              "      <td>POLYGON ((-89.18137 37.04630, -89.17938 37.053...</td>\n",
              "    </tr>\n",
              "    <tr>\n",
              "      <th>1</th>\n",
              "      <td>21</td>\n",
              "      <td>017</td>\n",
              "      <td>00516855</td>\n",
              "      <td>0500000US21017</td>\n",
              "      <td>21017</td>\n",
              "      <td>Bourbon</td>\n",
              "      <td>06</td>\n",
              "      <td>750439351</td>\n",
              "      <td>4829777</td>\n",
              "      <td>POLYGON ((-84.44266 38.28324, -84.44114 38.283...</td>\n",
              "    </tr>\n",
              "  </tbody>\n",
              "</table>\n",
              "</div>\n",
              "    <div class=\"colab-df-buttons\">\n",
              "\n",
              "  <div class=\"colab-df-container\">\n",
              "    <button class=\"colab-df-convert\" onclick=\"convertToInteractive('df-ca2a6692-e980-408c-95b8-6d03420adff7')\"\n",
              "            title=\"Convert this dataframe to an interactive table.\"\n",
              "            style=\"display:none;\">\n",
              "\n",
              "  <svg xmlns=\"http://www.w3.org/2000/svg\" height=\"24px\" viewBox=\"0 -960 960 960\">\n",
              "    <path d=\"M120-120v-720h720v720H120Zm60-500h600v-160H180v160Zm220 220h160v-160H400v160Zm0 220h160v-160H400v160ZM180-400h160v-160H180v160Zm440 0h160v-160H620v160ZM180-180h160v-160H180v160Zm440 0h160v-160H620v160Z\"/>\n",
              "  </svg>\n",
              "    </button>\n",
              "\n",
              "  <style>\n",
              "    .colab-df-container {\n",
              "      display:flex;\n",
              "      gap: 12px;\n",
              "    }\n",
              "\n",
              "    .colab-df-convert {\n",
              "      background-color: #E8F0FE;\n",
              "      border: none;\n",
              "      border-radius: 50%;\n",
              "      cursor: pointer;\n",
              "      display: none;\n",
              "      fill: #1967D2;\n",
              "      height: 32px;\n",
              "      padding: 0 0 0 0;\n",
              "      width: 32px;\n",
              "    }\n",
              "\n",
              "    .colab-df-convert:hover {\n",
              "      background-color: #E2EBFA;\n",
              "      box-shadow: 0px 1px 2px rgba(60, 64, 67, 0.3), 0px 1px 3px 1px rgba(60, 64, 67, 0.15);\n",
              "      fill: #174EA6;\n",
              "    }\n",
              "\n",
              "    .colab-df-buttons div {\n",
              "      margin-bottom: 4px;\n",
              "    }\n",
              "\n",
              "    [theme=dark] .colab-df-convert {\n",
              "      background-color: #3B4455;\n",
              "      fill: #D2E3FC;\n",
              "    }\n",
              "\n",
              "    [theme=dark] .colab-df-convert:hover {\n",
              "      background-color: #434B5C;\n",
              "      box-shadow: 0px 1px 3px 1px rgba(0, 0, 0, 0.15);\n",
              "      filter: drop-shadow(0px 1px 2px rgba(0, 0, 0, 0.3));\n",
              "      fill: #FFFFFF;\n",
              "    }\n",
              "  </style>\n",
              "\n",
              "    <script>\n",
              "      const buttonEl =\n",
              "        document.querySelector('#df-ca2a6692-e980-408c-95b8-6d03420adff7 button.colab-df-convert');\n",
              "      buttonEl.style.display =\n",
              "        google.colab.kernel.accessAllowed ? 'block' : 'none';\n",
              "\n",
              "      async function convertToInteractive(key) {\n",
              "        const element = document.querySelector('#df-ca2a6692-e980-408c-95b8-6d03420adff7');\n",
              "        const dataTable =\n",
              "          await google.colab.kernel.invokeFunction('convertToInteractive',\n",
              "                                                    [key], {});\n",
              "        if (!dataTable) return;\n",
              "\n",
              "        const docLinkHtml = 'Like what you see? Visit the ' +\n",
              "          '<a target=\"_blank\" href=https://colab.research.google.com/notebooks/data_table.ipynb>data table notebook</a>'\n",
              "          + ' to learn more about interactive tables.';\n",
              "        element.innerHTML = '';\n",
              "        dataTable['output_type'] = 'display_data';\n",
              "        await google.colab.output.renderOutput(dataTable, element);\n",
              "        const docLink = document.createElement('div');\n",
              "        docLink.innerHTML = docLinkHtml;\n",
              "        element.appendChild(docLink);\n",
              "      }\n",
              "    </script>\n",
              "  </div>\n",
              "\n",
              "\n",
              "<div id=\"df-754191f2-6d31-410d-b467-71ed002dea70\">\n",
              "  <button class=\"colab-df-quickchart\" onclick=\"quickchart('df-754191f2-6d31-410d-b467-71ed002dea70')\"\n",
              "            title=\"Suggest charts.\"\n",
              "            style=\"display:none;\">\n",
              "\n",
              "<svg xmlns=\"http://www.w3.org/2000/svg\" height=\"24px\"viewBox=\"0 0 24 24\"\n",
              "     width=\"24px\">\n",
              "    <g>\n",
              "        <path d=\"M19 3H5c-1.1 0-2 .9-2 2v14c0 1.1.9 2 2 2h14c1.1 0 2-.9 2-2V5c0-1.1-.9-2-2-2zM9 17H7v-7h2v7zm4 0h-2V7h2v10zm4 0h-2v-4h2v4z\"/>\n",
              "    </g>\n",
              "</svg>\n",
              "  </button>\n",
              "\n",
              "<style>\n",
              "  .colab-df-quickchart {\n",
              "      --bg-color: #E8F0FE;\n",
              "      --fill-color: #1967D2;\n",
              "      --hover-bg-color: #E2EBFA;\n",
              "      --hover-fill-color: #174EA6;\n",
              "      --disabled-fill-color: #AAA;\n",
              "      --disabled-bg-color: #DDD;\n",
              "  }\n",
              "\n",
              "  [theme=dark] .colab-df-quickchart {\n",
              "      --bg-color: #3B4455;\n",
              "      --fill-color: #D2E3FC;\n",
              "      --hover-bg-color: #434B5C;\n",
              "      --hover-fill-color: #FFFFFF;\n",
              "      --disabled-bg-color: #3B4455;\n",
              "      --disabled-fill-color: #666;\n",
              "  }\n",
              "\n",
              "  .colab-df-quickchart {\n",
              "    background-color: var(--bg-color);\n",
              "    border: none;\n",
              "    border-radius: 50%;\n",
              "    cursor: pointer;\n",
              "    display: none;\n",
              "    fill: var(--fill-color);\n",
              "    height: 32px;\n",
              "    padding: 0;\n",
              "    width: 32px;\n",
              "  }\n",
              "\n",
              "  .colab-df-quickchart:hover {\n",
              "    background-color: var(--hover-bg-color);\n",
              "    box-shadow: 0 1px 2px rgba(60, 64, 67, 0.3), 0 1px 3px 1px rgba(60, 64, 67, 0.15);\n",
              "    fill: var(--button-hover-fill-color);\n",
              "  }\n",
              "\n",
              "  .colab-df-quickchart-complete:disabled,\n",
              "  .colab-df-quickchart-complete:disabled:hover {\n",
              "    background-color: var(--disabled-bg-color);\n",
              "    fill: var(--disabled-fill-color);\n",
              "    box-shadow: none;\n",
              "  }\n",
              "\n",
              "  .colab-df-spinner {\n",
              "    border: 2px solid var(--fill-color);\n",
              "    border-color: transparent;\n",
              "    border-bottom-color: var(--fill-color);\n",
              "    animation:\n",
              "      spin 1s steps(1) infinite;\n",
              "  }\n",
              "\n",
              "  @keyframes spin {\n",
              "    0% {\n",
              "      border-color: transparent;\n",
              "      border-bottom-color: var(--fill-color);\n",
              "      border-left-color: var(--fill-color);\n",
              "    }\n",
              "    20% {\n",
              "      border-color: transparent;\n",
              "      border-left-color: var(--fill-color);\n",
              "      border-top-color: var(--fill-color);\n",
              "    }\n",
              "    30% {\n",
              "      border-color: transparent;\n",
              "      border-left-color: var(--fill-color);\n",
              "      border-top-color: var(--fill-color);\n",
              "      border-right-color: var(--fill-color);\n",
              "    }\n",
              "    40% {\n",
              "      border-color: transparent;\n",
              "      border-right-color: var(--fill-color);\n",
              "      border-top-color: var(--fill-color);\n",
              "    }\n",
              "    60% {\n",
              "      border-color: transparent;\n",
              "      border-right-color: var(--fill-color);\n",
              "    }\n",
              "    80% {\n",
              "      border-color: transparent;\n",
              "      border-right-color: var(--fill-color);\n",
              "      border-bottom-color: var(--fill-color);\n",
              "    }\n",
              "    90% {\n",
              "      border-color: transparent;\n",
              "      border-bottom-color: var(--fill-color);\n",
              "    }\n",
              "  }\n",
              "</style>\n",
              "\n",
              "  <script>\n",
              "    async function quickchart(key) {\n",
              "      const quickchartButtonEl =\n",
              "        document.querySelector('#' + key + ' button');\n",
              "      quickchartButtonEl.disabled = true;  // To prevent multiple clicks.\n",
              "      quickchartButtonEl.classList.add('colab-df-spinner');\n",
              "      try {\n",
              "        const charts = await google.colab.kernel.invokeFunction(\n",
              "            'suggestCharts', [key], {});\n",
              "      } catch (error) {\n",
              "        console.error('Error during call to suggestCharts:', error);\n",
              "      }\n",
              "      quickchartButtonEl.classList.remove('colab-df-spinner');\n",
              "      quickchartButtonEl.classList.add('colab-df-quickchart-complete');\n",
              "    }\n",
              "    (() => {\n",
              "      let quickchartButtonEl =\n",
              "        document.querySelector('#df-754191f2-6d31-410d-b467-71ed002dea70 button');\n",
              "      quickchartButtonEl.style.display =\n",
              "        google.colab.kernel.accessAllowed ? 'block' : 'none';\n",
              "    })();\n",
              "  </script>\n",
              "</div>\n",
              "    </div>\n",
              "  </div>\n"
            ],
            "application/vnd.google.colaboratory.module+javascript": "\n      import \"https://ssl.gstatic.com/colaboratory/data_table/881c4a0d49046431/data_table.js\";\n\n      const table = window.createDataTable({\n        data: [[{\n            'v': 0,\n            'f': \"0\",\n        },\n\"21\",\n\"007\",\n\"00516850\",\n\"0500000US21007\",\n\"21007\",\n\"Ballard\",\n\"06\",\n{\n            'v': 639387454,\n            'f': \"639387454\",\n        },\n{\n            'v': 69473325,\n            'f': \"69473325\",\n        },\n\"POLYGON ((-89.18136899999999 37.046305, -89.179384 37.053011999999995, -89.175725 37.062069, -89.171880551089 37.0681839790285, -89.168087 37.074217999999995, -89.167028692571 37.075362480440596, -89.154504 37.088907, -89.15431138762109 37.089001806093, -89.151294 37.090486999999996, -89.14979699999999 37.089828, -89.146596 37.090714, -89.14132 37.093865, -89.13823099999999 37.096906, -89.135847 37.102197, -89.134931 37.103277999999996, -89.125072 37.108813, -89.12201999999999 37.111342, -89.1210384794274 37.112695930307495, -89.120465 37.113487, -89.115579 37.115781, -89.111189 37.119051999999996, -89.099047 37.140966999999996, -89.0973303711961 37.1447445939994, -89.09666899999999 37.1462, -89.095753 37.150391, -89.092934 37.156439, -89.08721942565089 37.1646104489327, -89.08652599999999 37.165602, -89.085239498632 37.1667908745781, -89.07622099999999 37.175125, -89.06275111158901 37.1852298236295, -89.058036 37.188767, -89.04372190546039 37.200811901349304, -89.041263 37.202881, -89.037568 37.203932, -89.02998099999999 37.211144, -89.014003 37.21609, -89.00591999999999 37.221198, -89.008532 37.220583, -89.000968 37.224401, -88.99234944604639 37.2264860398203, -88.98326 37.228685, -88.974711 37.229707999999995, -88.97236199999999 37.228302, -88.967297 37.226938, -88.95029799999999 37.224846, -88.9334049588957 37.2251870778059, -88.918667 37.191086, -88.878259 37.098027, -88.87567899999999 37.092025, -88.873786 37.087618, -88.87006699999999 37.078961, -88.86918899999999 37.076918, -88.869151 37.076829, -88.869102 37.076716, -88.8606 37.056878999999995, -88.847937 37.027711, -88.837932 37.005435, -88.821705 36.967611, -88.815952 36.954100000000004, -88.819351 36.953787, -88.82028199999999 36.954831999999996, -88.822715 36.953668, -88.826117 36.953131, -88.827131 36.951141, -88.830327 36.951105999999996, -88.83118999999999 36.948929, -88.83417299999999 36.949652, -88.835314 36.950522, -88.835696 36.948506, -88.838259 36.948232, -88.840212 36.948844, -88.84200299999999 36.947433, -88.84279699999999 36.949173, -88.84458 36.949301, -88.84569499999999 36.947415, -88.846768 36.949087, -88.849128 36.951271, -88.85085 36.950489999999995, -88.850864 36.951654999999995, -88.852221 36.952224, -88.853175 36.951071, -88.856912 36.949661, -88.858114 36.951381999999995, -88.859725 36.951682999999996, -88.859737 36.95041, -88.862747 36.949186999999995, -88.863631 36.950528999999996, -88.866648 36.948825, -88.86652 36.947813, -88.869383 36.947095, -88.86912799999999 36.945855, -88.871614 36.947486, -88.872638 36.94751, -88.874359 36.947147, -88.87510499999999 36.946042, -88.876376 36.946703, -88.876993 36.945568, -88.87932599999999 36.945065, -88.87827 36.944347, -88.880878 36.943689, -88.882441 36.944500000000005, -88.88377 36.943087999999996, -88.885166 36.942839, -88.886406 36.944483999999996, -88.887478 36.942924999999995, -88.887208 36.94437, -88.888785 36.945363, -88.890266 36.945387, -88.890059 36.943872, -88.891345 36.944599, -88.893064 36.944295, -88.89425299999999 36.942202, -88.896262 36.943016, -88.898248 36.940998, -88.903939 36.939777, -88.905058 36.937442, -88.907534 36.939948, -88.909472 36.938777, -88.909973 36.939792, -88.911737 36.940259, -88.912168 36.942177, -88.915802 36.942461, -88.917183 36.940843, -88.92014499999999 36.939420999999996, -88.92110699999999 36.940248, -88.922139 36.938857, -88.923732 36.939133, -88.92520499999999 36.938407999999995, -88.92772 36.940377, -88.929244 36.936873, -88.93383899999999 36.935908999999995, -88.934496 36.936538, -88.93536399999999 36.934653, -88.93621399999999 36.935324, -88.939701 36.934182, -88.93992999999999 36.931613999999996, -88.94167 36.932671, -88.945098 36.933028, -88.946507 36.931996999999996, -88.94764599999999 36.933175, -88.94892 36.93237, -88.94810199999999 36.931335, -88.951264 36.929848, -88.953788 36.930821, -88.953687 36.929767999999996, -88.952225 36.92958, -88.952552 36.92845, -88.95455 36.929066, -88.95738 36.928767, -88.959355 36.930875, -88.960612 36.929456, -88.962141 36.929649, -88.961202 36.930673999999996, -88.962716 36.930884999999996, -88.96584999999999 36.928666, -88.965924 36.927186, -88.96746499999999 36.926383, -88.970772 36.926845, -88.972415 36.924774, -88.97420199999999 36.924931, -88.97883999999999 36.926213, -88.97945299999999 36.924882, -88.98109099999999 36.925360999999995, -88.984871 36.922243, -88.987191 36.923074, -88.987916 36.921061, -88.989577 36.920401999999996, -88.988647 36.919869999999996, -88.990832 36.919477, -88.99367699999999 36.920606, -88.996105 36.919984, -88.998798 36.920607, -88.99821399999999 36.921546, -88.998604 36.923507, -89.000874 36.924678, -89.00377399999999 36.924893, -89.006033 36.925713, -89.006478 36.927467, -89.008366 36.926131, -89.00867799999999 36.924417999999996, -89.010206 36.922621, -89.011698 36.923753999999995, -89.010357 36.925264, -89.012222 36.926654, -89.011349 36.929224, -89.013869 36.930413, -89.01454 36.929483, -89.013888 36.927839999999996, -89.015564 36.927039, -89.020276 36.928450999999995, -89.021497 36.928011, -89.02152099999999 36.926522999999996, -89.023207 36.925444, -89.025111 36.925711, -89.025024 36.924144, -89.02645 36.923770999999995, -89.02766799999999 36.925902, -89.02904099999999 36.925011999999995, -89.030541 36.925025999999995, -89.031829 36.926928, -89.034021 36.926715, -89.035315 36.92754, -89.03818 36.927237999999996, -89.03991599999999 36.926449, -89.041438 36.926787999999995, -89.04245399999999 36.925284, -89.044562 36.925064, -89.044961 36.926567, -89.047208 36.926792, -89.048174 36.925424, -89.04947399999999 36.925618, -89.04797599999999 36.931356, -89.047094 36.932506, -89.05044699999999 36.932322, -89.048765 36.933732, -89.04856699999999 36.935912, -89.05040000000001 36.936129, -89.05222499999999 36.935328999999996, -89.051773 36.93819, -89.054276 36.93544, -89.053433 36.933977999999996, -89.053741 36.932885, -89.054906 36.93313, -89.056679 36.934815, -89.058634 36.935659, -89.059798 36.934329999999996, -89.06074699999999 36.934275, -89.06248699999999 36.935748, -89.064421 36.934407, -89.07091 36.932128999999996, -89.070531 36.930963999999996, -89.06657299999999 36.929961, -89.064077 36.929806, -89.062545 36.928066, -89.06404099999999 36.927417999999996, -89.064944 36.924768, -89.063836 36.923224, -89.06702299999999 36.920916999999996, -89.068827 36.920634, -89.069738 36.921521, -89.070927 36.920624, -89.069287 36.919654, -89.06893699999999 36.918034999999996, -89.06973099999999 36.916382, -89.071162 36.915559, -89.073234 36.915977999999996, -89.07453799999999 36.917325, -89.074125 36.919973, -89.07831499999999 36.920806, -89.079392 36.91966, -89.079009 36.916449, -89.080505 36.915544, -89.08115699999999 36.917867, -89.082281 36.919812, -89.08400999999999 36.921262, -89.084018 36.922549, -89.081452 36.92532, -89.08132499999999 36.926929, -89.087176 36.93295, -89.08814199999999 36.935703, -89.08736999999999 36.937658, -89.087527 36.939264, -89.090204 36.941210999999996, -89.091509 36.944303, -89.092197 36.945, -89.094377 36.944901, -89.096578 36.943419999999996, -89.10076200668469 36.9440018170751, -89.098843 36.95785, -89.099007 36.961389, -89.0992373869605 36.9626268883705, -89.099594 36.964543, -89.102879 36.9697, -89.109498 36.976563, -89.11502999999999 36.980335, -89.1183 36.981879, -89.125069 36.983498999999995, -89.128868 36.983264999999996, -89.132685 36.9822, -89.138437 36.985088999999995, -89.1481423804501 36.991621249316, -89.16066699999999 37.000051, -89.16644699999999 37.003336999999995, -89.1682624061864 37.0051764924658, -89.1705253470074 37.0074694573251, -89.17112 37.008072, -89.17359499999999 37.011409, -89.178975 37.020928, -89.17940995041829 37.0223008557762, -89.18064594687179 37.026202093248, -89.180849 37.026843, -89.182509 37.037275, -89.18136899999999 37.046305))\"],\n [{\n            'v': 1,\n            'f': \"1\",\n        },\n\"21\",\n\"017\",\n\"00516855\",\n\"0500000US21017\",\n\"21017\",\n\"Bourbon\",\n\"06\",\n{\n            'v': 750439351,\n            'f': \"750439351\",\n        },\n{\n            'v': 4829777,\n            'f': \"4829777\",\n        },\n\"POLYGON ((-84.442661 38.283235999999995, -84.441137 38.283729, -84.437381 38.283611, -84.433055 38.280305, -84.430155 38.280462, -84.429002 38.279669999999996, -84.424686 38.281121, -84.42159099999999 38.283878, -84.421684 38.285556, -84.419017 38.287268, -84.415105 38.287501999999996, -84.409561 38.285492, -84.409959 38.284771, -84.405479 38.284838, -84.401825 38.283837999999996, -84.400576 38.284656999999996, -84.398124 38.283989999999996, -84.397813 38.282695, -84.396513 38.282689, -84.395856 38.283660999999995, -84.393354 38.282416, -84.389124 38.28261, -84.387615 38.282188999999995, -84.384517 38.279133, -84.380637 38.278776, -84.379019 38.277879, -84.377195 38.279199, -84.37486299999999 38.278822, -84.37230799999999 38.279509, -84.37149699999999 38.281608, -84.369939 38.281631999999995, -84.367755 38.283916999999995, -84.36595799999999 38.289805, -84.36283499999999 38.294789, -84.36198399999999 38.295674999999996, -84.35988499999999 38.296037999999996, -84.358064 38.294109999999996, -84.357737 38.292711, -84.35884399999999 38.290704, -84.356985 38.289719, -84.35542699999999 38.28818, -84.350577 38.287233, -84.34912299999999 38.286187, -84.344921 38.285046, -84.341411 38.286522, -84.33982999999999 38.287819, -84.33674099999999 38.289274999999996, -84.333846 38.288751, -84.333373 38.289818, -84.334361 38.290996, -84.335505 38.290856, -84.338605 38.291548, -84.341201 38.292846, -84.34249899999999 38.294988, -84.34123799999999 38.296275, -84.338903 38.296537, -84.336495 38.294739, -84.331859 38.292967, -84.32637 38.294315, -84.323084 38.297740999999995, -84.321761 38.297661, -84.320646 38.296026999999995, -84.319163 38.295961999999996, -84.317352 38.29779, -84.315715 38.301942, -84.312333 38.304072, -84.308702 38.304034, -84.30684 38.305023, -84.304763 38.305003, -84.305357 38.306453, -84.308454 38.307849, -84.310121 38.307882, -84.309868 38.311395, -84.308529 38.312481999999996, -84.306169 38.3131, -84.303583 38.313067, -84.301681 38.31137, -84.297822 38.311794, -84.294808 38.308864, -84.294072 38.309027, -84.293398 38.311502999999995, -84.294829 38.314293, -84.29748099999999 38.31621, -84.296577 38.317724999999996, -84.293401 38.317752, -84.290736 38.316697999999995, -84.28986499999999 38.314903, -84.290565 38.312689999999996, -84.28738299999999 38.311682999999995, -84.28184399999999 38.312461, -84.28021799999999 38.313333, -84.27885599999999 38.315323, -84.264472 38.324490999999995, -84.19404999999999 38.37175, -84.166253 38.354912999999996, -84.13727899999999 38.311743, -84.135604 38.309151, -84.132621 38.304549, -84.130742 38.305084, -84.12683799999999 38.307970999999995, -84.12415999999999 38.306824, -84.125485 38.305672, -84.127478 38.305558, -84.129035 38.304741, -84.12908399999999 38.303709999999995, -84.127698 38.300495999999995, -84.130164 38.2952, -84.12992899999999 38.294608, -84.127155 38.294635, -84.126154 38.296412, -84.124957 38.296563, -84.11837 38.294906, -84.117246 38.293085, -84.11837899999999 38.290559, -84.117739 38.288962, -84.116699 38.288292, -84.11350399999999 38.28788, -84.109505 38.286421, -84.10564099999999 38.28658, -84.104135 38.285744, -84.105128 38.282484, -84.107441 38.281419, -84.10961999999999 38.281509, -84.11207399999999 38.285537999999995, -84.114446 38.28611, -84.114587 38.284627, -84.11384 38.283226, -84.111443 38.280927, -84.111243 38.279427, -84.11344299999999 38.278278, -84.115422 38.279133, -84.12018499999999 38.275515999999996, -84.118579 38.272529999999996, -84.117372 38.272217, -84.112636 38.272946999999995, -84.110974 38.27483, -84.109197 38.275028999999996, -84.107326 38.272208, -84.103647 38.269874, -84.101626 38.266711, -84.10165099999999 38.263932, -84.10413199999999 38.262529, -84.104663 38.260816999999996, -84.103023 38.258753999999996, -84.098948 38.259049, -84.09698 38.258739999999996, -84.09532399999999 38.259014, -84.092648 38.260532999999995, -84.091432 38.264098, -84.091679 38.265037, -84.095748 38.267647, -84.095388 38.268412999999995, -84.0921 38.26948, -84.090638 38.270579, -84.08976 38.272614, -84.088983 38.273024, -84.085183 38.272777, -84.07920299999999 38.27297, -84.077911 38.270983, -84.079895 38.26983, -84.08341999999999 38.270624999999995, -84.084346 38.270044, -84.085369 38.26611, -84.083816 38.265043999999996, -84.082042 38.265111999999995, -84.079458 38.267877, -84.076309 38.268895, -84.07343399999999 38.266149999999996, -84.073987 38.26415, -84.075328 38.263678999999996, -84.07849 38.263587, -84.080366 38.259195999999996, -84.080109 38.257694, -84.077741 38.256157, -84.073095 38.257411, -84.071764 38.257067, -84.068879 38.255243, -84.066397 38.255013999999996, -84.06271 38.25566, -84.05895699999999 38.257070999999996, -84.057214 38.256828999999996, -84.05780399999999 38.252077, -84.057694 38.249831, -84.055224 38.247454, -84.05449399999999 38.245809, -84.052765 38.244202, -84.052551 38.242630999999996, -84.054068 38.242157999999996, -84.056991 38.242916, -84.05673399999999 38.242301999999995, -84.053141 38.239455, -84.054538 38.238616, -84.058382 38.237928, -84.06215399999999 38.236627, -84.062691 38.235203, -84.061403 38.234121, -84.059418 38.233543999999995, -84.055182 38.230951, -84.052657 38.230239, -84.05114499999999 38.228994, -84.048298 38.2278, -84.04535299999999 38.2256, -84.037747 38.222849, -84.033999 38.223655, -84.032505 38.223064, -84.031537 38.221047999999996, -84.027982 38.219341, -84.027519 38.218005, -84.029686 38.215136, -84.028874 38.214056, -84.027045 38.214104999999996, -84.023733 38.214942, -84.018835 38.216604, -84.012973 38.217545, -84.01203199999999 38.220372999999995, -84.009953 38.221621, -84.006175 38.22276, -84.004583 38.224111, -84.002704 38.222621, -84.003185 38.221201, -84.005894 38.221039999999995, -84.00814 38.219840999999995, -84.006905 38.218106, -84.006676 38.215145, -84.003598 38.213909, -84.001007 38.214388, -84.00008799999999 38.216522, -83.997738 38.216885999999995, -83.996538 38.216319, -83.996003 38.214661, -83.99704899999999 38.213359, -84.000384 38.211804, -84.00320099999999 38.211794999999995, -84.004502 38.211152, -84.00246399999999 38.210132, -84.000817 38.208376, -83.998888 38.207544999999996, -83.994339 38.207816, -83.992937 38.206753, -83.994584 38.205034, -83.99421799999999 38.203903, -83.99066599999999 38.203013999999996, -83.98901699999999 38.203486, -83.98842499999999 38.203997, -83.9889 38.205708, -83.990405 38.207589, -83.99046 38.209303, -83.98973699999999 38.212108, -83.989674 38.216038999999995, -83.989145 38.218796, -83.988421 38.219975999999996, -83.98731099999999 38.220222, -83.98220099999999 38.219816, -83.977367 38.220048, -83.97590799999999 38.218604, -83.975978 38.216867, -83.977209 38.215039, -83.979512 38.213052, -83.97888999999999 38.209275, -83.97901999999999 38.207845999999996, -83.975327 38.208318, -83.97337 38.210150999999996, -83.97005999999999 38.20993, -83.969281 38.20933, -83.970339 38.207231, -83.969809 38.204170999999995, -83.97059399999999 38.202858, -83.973233 38.201935, -83.973106 38.199098, -83.974952 38.196388999999996, -83.975974 38.19637, -83.97682999999999 38.198266, -83.978081 38.1982, -83.98354499999999 38.195155, -83.983723 38.194475, -83.982018 38.192886, -83.977924 38.192118, -83.99017099999999 38.175067, -84.02645199999999 38.152431, -84.03208099999999 38.148562, -84.03575699999999 38.147290999999996, -84.0394 38.145492999999995, -84.04245499999999 38.141416, -84.046058 38.139458999999995, -84.049545 38.13718, -84.05655999999999 38.134609, -84.060073 38.133901, -84.066057 38.128966999999996, -84.06742 38.126675, -84.07011399999999 38.123805999999995, -84.08052699999999 38.115117999999995, -84.14640399999999 38.099802, -84.187069 38.090288, -84.286461 38.067028, -84.284373 38.069168999999995, -84.284472 38.070344, -84.28636999999999 38.071031, -84.28777 38.073221, -84.28725899999999 38.075592, -84.29025899999999 38.076491, -84.29289 38.077943999999995, -84.292957 38.080013, -84.294995 38.081001, -84.29798 38.07998, -84.299951 38.082359, -84.30163399999999 38.083006, -84.302604 38.084379999999996, -84.303941 38.084607999999996, -84.304796 38.08575, -84.306294 38.084289, -84.307458 38.084266, -84.308549 38.086534, -84.31173199999999 38.086756, -84.311877 38.08903, -84.313513 38.089942, -84.31437199999999 38.093011, -84.315203 38.093179, -84.31636999999999 38.092993, -84.318125 38.092884999999995, -84.31965 38.091375, -84.32038399999999 38.089112, -84.322141 38.087863, -84.32338399999999 38.087818999999996, -84.324625 38.086172, -84.32696399999999 38.084716, -84.32952499999999 38.085058, -84.33101099999999 38.086209, -84.334094 38.086377999999996, -84.334644 38.087423, -84.338168 38.08857, -84.338492 38.089636, -84.342231 38.091080999999996, -84.343582 38.091035999999995, -84.344606 38.094941999999996, -84.349234 38.095000999999996, -84.349128 38.096666, -84.35054 38.097531, -84.352278 38.097417, -84.35462199999999 38.098371, -84.355752 38.097847, -84.36055999999999 38.098707999999995, -84.361682 38.100977, -84.363401 38.10038, -84.366215 38.102069, -84.36728699999999 38.103288, -84.36729 38.104599, -84.37012299999999 38.105216, -84.36943 38.10726, -84.369908 38.109004, -84.374556 38.110271, -84.37653 38.11004, -84.378073 38.111449, -84.379369 38.111122, -84.38060899999999 38.112469, -84.380935 38.113490999999996, -84.379857 38.115071, -84.37982699999999 38.116561, -84.37745199999999 38.1179, -84.37700699999999 38.119413, -84.37775599999999 38.121308, -84.376691 38.122406, -84.374511 38.122870999999996, -84.372682 38.124092, -84.370391 38.124441, -84.368589 38.125901, -84.36792799999999 38.12759, -84.36818699999999 38.128974, -84.367386 38.130041999999996, -84.36775 38.132618, -84.36850799999999 38.133649999999996, -84.36854199999999 38.136086999999996, -84.369889 38.137693999999996, -84.369631 38.138959, -84.370519 38.14029, -84.369354 38.143327, -84.369704 38.14607, -84.371074 38.150304, -84.37003 38.153366, -84.37164299999999 38.154146, -84.37186799999999 38.156169, -84.373755 38.157572, -84.373787 38.160447999999995, -84.37245899999999 38.162503, -84.368808 38.161857999999995, -84.367059 38.164094, -84.363146 38.166897999999996, -84.363991 38.169070999999995, -84.36303199999999 38.170851, -84.36024499999999 38.171354, -84.358905 38.172267999999995, -84.35913599999999 38.173742, -84.357829 38.174817, -84.35712199999999 38.176601999999995, -84.35515 38.178036, -84.357389 38.179559, -84.35810599999999 38.180743, -84.35740799999999 38.182173, -84.358223 38.183138, -84.36005999999999 38.183809, -84.360024 38.185435, -84.357793 38.186642, -84.358763 38.189177, -84.358453 38.191702, -84.358627 38.194824, -84.360337 38.195398999999995, -84.364775 38.195907, -84.367052 38.196571999999996, -84.36707299999999 38.198463, -84.367981 38.200314999999996, -84.370621 38.200210999999996, -84.37220599999999 38.200976, -84.37288199999999 38.202338999999995, -84.374318 38.203069, -84.374794 38.205543999999996, -84.37274 38.207692, -84.375132 38.207952999999996, -84.376376 38.210454, -84.378481 38.211357, -84.379713 38.211251, -84.381196 38.210029, -84.38708799999999 38.210301, -84.390731 38.208408999999996, -84.393024 38.20796, -84.395197 38.206385999999995, -84.397156 38.205587, -84.398646 38.206120999999996, -84.400792 38.205276, -84.401743 38.206103, -84.40184699999999 38.207889, -84.403871 38.208872, -84.405929 38.209007, -84.409536 38.21134, -84.412978 38.211559, -84.415679 38.213678, -84.41787699999999 38.21342, -84.419522 38.213988, -84.42026899999999 38.215522, -84.422305 38.21709, -84.420802 38.218972, -84.41866999999999 38.220002, -84.41742099999999 38.219978999999995, -84.416828 38.22125, -84.417113 38.223651, -84.417698 38.225459, -84.41771299999999 38.227976999999996, -84.418228 38.229223, -84.419927 38.229791999999996, -84.421382 38.231598999999996, -84.421382 38.233585999999995, -84.423411 38.238104, -84.42141699999999 38.240079, -84.42329199999999 38.241233, -84.423441 38.242781, -84.422664 38.244679, -84.420704 38.246739999999996, -84.421725 38.249888999999996, -84.421267 38.252776, -84.422375 38.254823, -84.42254 38.256642, -84.423351 38.257158, -84.425936 38.256946, -84.426706 38.258081, -84.42908899999999 38.259623999999995, -84.430808 38.259977, -84.43227499999999 38.262474, -84.431432 38.263481999999996, -84.431983 38.264688, -84.434416 38.264602, -84.436872 38.266346, -84.43629399999999 38.267689, -84.43703599999999 38.270052, -84.435453 38.270697999999996, -84.436658 38.274066999999995, -84.439255 38.27388, -84.43940599999999 38.275383999999995, -84.44152299999999 38.275993, -84.44163499999999 38.277428, -84.442503 38.280362, -84.44135299999999 38.281307999999996, -84.44121899999999 38.281943, -84.442661 38.283235999999995))\"]],\n        columns: [[\"number\", \"index\"], [\"string\", \"STATEFP\"], [\"string\", \"COUNTYFP\"], [\"string\", \"COUNTYNS\"], [\"string\", \"AFFGEOID\"], [\"string\", \"GEOID\"], [\"string\", \"NAME\"], [\"string\", \"LSAD\"], [\"number\", \"ALAND\"], [\"number\", \"AWATER\"], [\"string\", \"geometry\"]],\n        columnOptions: [{\"width\": \"1px\", \"className\": \"index_column\"}],\n        rowsPerPage: 25,\n        helpUrl: \"https://colab.research.google.com/notebooks/data_table.ipynb\",\n        suppressOutputScrolling: true,\n        minimumWidth: undefined,\n      });\n\n      function appendQuickchartButton(parentElement) {\n        let quickchartButtonContainerElement = document.createElement('div');\n        quickchartButtonContainerElement.innerHTML = `\n<div id=\"df-b3f9e8ce-aa8f-4e66-b071-51a034544080\">\n  <button class=\"colab-df-quickchart\" onclick=\"quickchart('df-b3f9e8ce-aa8f-4e66-b071-51a034544080')\"\n            title=\"Suggest charts.\"\n            style=\"display:none;\">\n    \n<svg xmlns=\"http://www.w3.org/2000/svg\" height=\"24px\"viewBox=\"0 0 24 24\"\n     width=\"24px\">\n    <g>\n        <path d=\"M19 3H5c-1.1 0-2 .9-2 2v14c0 1.1.9 2 2 2h14c1.1 0 2-.9 2-2V5c0-1.1-.9-2-2-2zM9 17H7v-7h2v7zm4 0h-2V7h2v10zm4 0h-2v-4h2v4z\"/>\n    </g>\n</svg>\n  </button>\n  \n<style>\n  .colab-df-quickchart {\n      --bg-color: #E8F0FE;\n      --fill-color: #1967D2;\n      --hover-bg-color: #E2EBFA;\n      --hover-fill-color: #174EA6;\n      --disabled-fill-color: #AAA;\n      --disabled-bg-color: #DDD;\n  }\n\n  [theme=dark] .colab-df-quickchart {\n      --bg-color: #3B4455;\n      --fill-color: #D2E3FC;\n      --hover-bg-color: #434B5C;\n      --hover-fill-color: #FFFFFF;\n      --disabled-bg-color: #3B4455;\n      --disabled-fill-color: #666;\n  }\n\n  .colab-df-quickchart {\n    background-color: var(--bg-color);\n    border: none;\n    border-radius: 50%;\n    cursor: pointer;\n    display: none;\n    fill: var(--fill-color);\n    height: 32px;\n    padding: 0;\n    width: 32px;\n  }\n\n  .colab-df-quickchart:hover {\n    background-color: var(--hover-bg-color);\n    box-shadow: 0 1px 2px rgba(60, 64, 67, 0.3), 0 1px 3px 1px rgba(60, 64, 67, 0.15);\n    fill: var(--button-hover-fill-color);\n  }\n\n  .colab-df-quickchart-complete:disabled,\n  .colab-df-quickchart-complete:disabled:hover {\n    background-color: var(--disabled-bg-color);\n    fill: var(--disabled-fill-color);\n    box-shadow: none;\n  }\n\n  .colab-df-spinner {\n    border: 2px solid var(--fill-color);\n    border-color: transparent;\n    border-bottom-color: var(--fill-color);\n    animation:\n      spin 1s steps(1) infinite;\n  }\n\n  @keyframes spin {\n    0% {\n      border-color: transparent;\n      border-bottom-color: var(--fill-color);\n      border-left-color: var(--fill-color);\n    }\n    20% {\n      border-color: transparent;\n      border-left-color: var(--fill-color);\n      border-top-color: var(--fill-color);\n    }\n    30% {\n      border-color: transparent;\n      border-left-color: var(--fill-color);\n      border-top-color: var(--fill-color);\n      border-right-color: var(--fill-color);\n    }\n    40% {\n      border-color: transparent;\n      border-right-color: var(--fill-color);\n      border-top-color: var(--fill-color);\n    }\n    60% {\n      border-color: transparent;\n      border-right-color: var(--fill-color);\n    }\n    80% {\n      border-color: transparent;\n      border-right-color: var(--fill-color);\n      border-bottom-color: var(--fill-color);\n    }\n    90% {\n      border-color: transparent;\n      border-bottom-color: var(--fill-color);\n    }\n  }\n</style>\n\n  <script>\n    async function quickchart(key) {\n      const quickchartButtonEl =\n        document.querySelector('#' + key + ' button');\n      quickchartButtonEl.disabled = true;  // To prevent multiple clicks.\n      quickchartButtonEl.classList.add('colab-df-spinner');\n      try {\n        const charts = await google.colab.kernel.invokeFunction(\n            'suggestCharts', [key], {});\n      } catch (error) {\n        console.error('Error during call to suggestCharts:', error);\n      }\n      quickchartButtonEl.classList.remove('colab-df-spinner');\n      quickchartButtonEl.classList.add('colab-df-quickchart-complete');\n    }\n    (() => {\n      let quickchartButtonEl =\n        document.querySelector('#df-b3f9e8ce-aa8f-4e66-b071-51a034544080 button');\n      quickchartButtonEl.style.display =\n        google.colab.kernel.accessAllowed ? 'block' : 'none';\n    })();\n  </script>\n</div>`;\n        parentElement.appendChild(quickchartButtonContainerElement);\n      }\n\n      appendQuickchartButton(table);\n    "
          },
          "metadata": {},
          "execution_count": 7
        }
      ]
    },
    {
      "cell_type": "code",
      "source": [
        "usC.plot()"
      ],
      "metadata": {
        "colab": {
          "base_uri": "https://localhost:8080/",
          "height": 217
        },
        "id": "6DjqTuSVFYwE",
        "outputId": "7a2f2bea-3b8e-467a-e456-306bd82c8a0c"
      },
      "execution_count": 8,
      "outputs": [
        {
          "output_type": "execute_result",
          "data": {
            "text/plain": [
              "<Axes: >"
            ]
          },
          "metadata": {},
          "execution_count": 8
        },
        {
          "output_type": "display_data",
          "data": {
            "text/plain": [
              "<Figure size 640x480 with 1 Axes>"
            ],
            "image/png": "[encoded data removed]"
          },
          "metadata": {}
        }
      ]
    }
  ]
}